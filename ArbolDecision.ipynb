{
  "nbformat": 4,
  "nbformat_minor": 0,
  "metadata": {
    "colab": {
      "name": "ArbolDecision.ipynb",
      "provenance": []
    },
    "kernelspec": {
      "name": "python3",
      "display_name": "Python 3"
    },
    "language_info": {
      "name": "python"
    }
  },
  "cells": [
    {
      "cell_type": "markdown",
      "metadata": {
        "id": "Os17-inUeXjS"
      },
      "source": [
        "# LABORATORIO 2"
      ]
    },
    {
      "cell_type": "markdown",
      "metadata": {
        "id": "JP83T78PIAxB"
      },
      "source": [
        "## Arboles de decisión"
      ]
    },
    {
      "cell_type": "markdown",
      "metadata": {
        "id": "aUrf_FhrKVcK"
      },
      "source": [
        "Los árboles de decisión son algoritmos de aprendizaje automático supervisados, son uno de los algoritmos que pueden ser utilizados para inconvenientes de regresión y categorización. Funcionan dividiendo el grupo de datos completos en subconjuntos más pequeños, el resultado final es un árbol que tiene nodos de elección y nodos de hoja. \n",
        "\n",
        "Para realizar la práctica de laboratorio sobre arboles de decisión, se utilizó la biblioteca sklearn el cual brinda varias funciones que facilitan el aprendizaje automático. A continuación, se muestran los módulos que se necesitaron para realizar la práctica.\n"
      ]
    },
    {
      "cell_type": "code",
      "metadata": {
        "id": "wplIP36zdEui"
      },
      "source": [
        "import pandas\n",
        "from sklearn import tree\n",
        "import pydotplus\n",
        "from sklearn.tree import DecisionTreeClassifier\n",
        "%matplotlib notebook\n",
        "import matplotlib.pyplot as plt\n",
        "import matplotlib.image as pltimg"
      ],
      "execution_count": 1,
      "outputs": []
    },
    {
      "cell_type": "markdown",
      "metadata": {
        "id": "GMOeNy1vKqwh"
      },
      "source": [
        "Primero se utiliza pandas para cargar y leer los datos del archivo ‘cars.csv’ utilizando la librería de pandas. "
      ]
    },
    {
      "cell_type": "code",
      "metadata": {
        "colab": {
          "base_uri": "https://localhost:8080/"
        },
        "id": "bi3EhrvNKWxg",
        "outputId": "4a5f1b85-8377-4770-ad6f-c3759fbab07d"
      },
      "source": [
        "df = pandas.read_csv('cars.csv')\n",
        "print(df)"
      ],
      "execution_count": 2,
      "outputs": [
        {
          "output_type": "stream",
          "name": "stdout",
          "text": [
            "     mpg   cylinders   cubicinches  ...   time-to-60  year     brand\n",
            "0   14.0           8           350  ...           12  1972       US.\n",
            "1   31.9           4            89  ...           14  1980   Europe.\n",
            "2   17.0           8           302  ...           11  1971       US.\n",
            "3   15.0           8           400  ...           10  1971       US.\n",
            "4   30.5           4            98  ...           17  1978       US.\n",
            "5   23.0           8           350  ...           17  1980       US.\n",
            "6   13.0           8           351  ...           13  1974       US.\n",
            "7   14.0           8           440  ...            9  1971       US.\n",
            "8   25.4           5           183  ...           20  1980   Europe.\n",
            "9   37.7           4            89  ...           17  1982    Japan.\n",
            "10  34.0           4           108  ...           17  1983    Japan.\n",
            "11  34.3           4            97  ...           16  1981   Europe.\n",
            "12  16.0           8           302  ...           14  1975       US.\n",
            "13  11.0           8           350  ...           11  1974       US.\n",
            "14  19.1           6           225  ...           19  1981       US.\n",
            "15  16.9           8           350  ...           15  1980       US.\n",
            "16  31.8           4            85  ...           19  1980    Japan.\n",
            "17  16.0           8           304  ...           12  1971       US.\n",
            "18  24.0           4           113  ...           16  1973    Japan.\n",
            "\n",
            "[19 rows x 8 columns]\n"
          ]
        }
      ]
    },
    {
      "cell_type": "markdown",
      "metadata": {
        "id": "JiuSbt3bLE0J"
      },
      "source": [
        "Se renombran las columnas, con el fin de poder manejar sus nombres de manera correcta, evitando cualquier error de sintaxis, posteriormente se procede a representar los valores alfanuméricos mediante una técnica básica de remplazo de valores. La representación de valores se la realiza para poder trabajar solo con valores numéricos, y el modelo pueda trabajar de forma óptima.   "
      ]
    },
    {
      "cell_type": "code",
      "metadata": {
        "colab": {
          "base_uri": "https://localhost:8080/"
        },
        "id": "Ibk0GUZ9LCkT",
        "outputId": "0c8724f5-e720-4ecf-9cf9-47742ed3d501"
      },
      "source": [
        "df.columns =['mpg', 'cylinders', 'cubicinches', 'hp', 'weightlbs', 'time-to-60',\n",
        "       'year', 'brand']\n",
        "df = df.dropna()\n",
        "df.head()\n",
        "d = {' US.' : 0, ' Japan.' : 1, ' Europe.' : 2}\n",
        "df['brand'] = df['brand'].map(d)\n",
        "\n",
        "print(df)"
      ],
      "execution_count": 3,
      "outputs": [
        {
          "output_type": "stream",
          "name": "stdout",
          "text": [
            "     mpg  cylinders  cubicinches   hp weightlbs  time-to-60  year  brand\n",
            "0   14.0          8          350  165      4209          12  1972      0\n",
            "1   31.9          4           89   71      1925          14  1980      2\n",
            "2   17.0          8          302  140      3449          11  1971      0\n",
            "3   15.0          8          400  150      3761          10  1971      0\n",
            "4   30.5          4           98   63      2051          17  1978      0\n",
            "5   23.0          8          350  125      3900          17  1980      0\n",
            "6   13.0          8          351  158      4363          13  1974      0\n",
            "7   14.0          8          440  215      4312           9  1971      0\n",
            "8   25.4          5          183   77      3530          20  1980      2\n",
            "9   37.7          4           89   62      2050          17  1982      1\n",
            "10  34.0          4          108   70      2245          17  1983      1\n",
            "11  34.3          4           97   78      2188          16  1981      2\n",
            "12  16.0          8          302  140      4141          14  1975      0\n",
            "13  11.0          8          350  180      3664          11  1974      0\n",
            "14  19.1          6          225   90                    19  1981      0\n",
            "15  16.9          8          350  155      4360          15  1980      0\n",
            "16  31.8          4           85   65      2020          19  1980      1\n",
            "17  16.0          8          304  150      3433          12  1971      0\n",
            "18  24.0          4          113   95      2278          16  1973      1\n"
          ]
        }
      ]
    },
    {
      "cell_type": "markdown",
      "metadata": {
        "id": "jQlJVTmuNE8i"
      },
      "source": [
        "Se realiza la selección de características para realizar la predicción, se deben elegir las columnas que aportan más al objetivo del modelo.  "
      ]
    },
    {
      "cell_type": "code",
      "metadata": {
        "id": "TXfAXI_yM35s"
      },
      "source": [
        "features = ['mpg','cylinders',  'hp',  'time-to-60', 'year']\n",
        "X = df[features]"
      ],
      "execution_count": 4,
      "outputs": []
    },
    {
      "cell_type": "markdown",
      "metadata": {
        "id": "kYUbq7JPOKki"
      },
      "source": [
        "Posteriormente seleccionamos el objetivo, es decir la columna que contiene los valores que se desean predecir."
      ]
    },
    {
      "cell_type": "code",
      "metadata": {
        "id": "5rGYMLYKOGkV"
      },
      "source": [
        "y = df['brand']"
      ],
      "execution_count": 5,
      "outputs": []
    },
    {
      "cell_type": "markdown",
      "metadata": {
        "id": "wCQIpvNgOORE"
      },
      "source": [
        "Se imprime los valores de ‘X’ y ‘y’, con el fin de verificar que los valores sean los correctos y puedan ser utilizados en el entrenamiento del modelo."
      ]
    },
    {
      "cell_type": "code",
      "metadata": {
        "colab": {
          "base_uri": "https://localhost:8080/"
        },
        "id": "U6EleOt5OHGb",
        "outputId": "1ce42751-720b-4fa6-a7dd-8f70ad910d64"
      },
      "source": [
        "print(X, y, sep='\\n\\n')"
      ],
      "execution_count": 6,
      "outputs": [
        {
          "output_type": "stream",
          "name": "stdout",
          "text": [
            "     mpg  cylinders   hp  time-to-60  year\n",
            "0   14.0          8  165          12  1972\n",
            "1   31.9          4   71          14  1980\n",
            "2   17.0          8  140          11  1971\n",
            "3   15.0          8  150          10  1971\n",
            "4   30.5          4   63          17  1978\n",
            "5   23.0          8  125          17  1980\n",
            "6   13.0          8  158          13  1974\n",
            "7   14.0          8  215           9  1971\n",
            "8   25.4          5   77          20  1980\n",
            "9   37.7          4   62          17  1982\n",
            "10  34.0          4   70          17  1983\n",
            "11  34.3          4   78          16  1981\n",
            "12  16.0          8  140          14  1975\n",
            "13  11.0          8  180          11  1974\n",
            "14  19.1          6   90          19  1981\n",
            "15  16.9          8  155          15  1980\n",
            "16  31.8          4   65          19  1980\n",
            "17  16.0          8  150          12  1971\n",
            "18  24.0          4   95          16  1973\n",
            "\n",
            "0     0\n",
            "1     2\n",
            "2     0\n",
            "3     0\n",
            "4     0\n",
            "5     0\n",
            "6     0\n",
            "7     0\n",
            "8     2\n",
            "9     1\n",
            "10    1\n",
            "11    2\n",
            "12    0\n",
            "13    0\n",
            "14    0\n",
            "15    0\n",
            "16    1\n",
            "17    0\n",
            "18    1\n",
            "Name: brand, dtype: int64\n"
          ]
        }
      ]
    },
    {
      "cell_type": "markdown",
      "metadata": {
        "id": "ssUVBve-Om7S"
      },
      "source": [
        "Con ayuda de la librería sklearn se realiza la creación de un árbol de decisiones utilizando DecisionTreeClassifier. Mediante método “fit” se construye un clasificador de árbol de decisión a partir del conjunto de entrenamiento (X, y)."
      ]
    },
    {
      "cell_type": "code",
      "metadata": {
        "id": "vNVpiqTdOj9V"
      },
      "source": [
        "dtree = DecisionTreeClassifier()\n",
        "dtree = dtree.fit(X, y)"
      ],
      "execution_count": 7,
      "outputs": []
    },
    {
      "cell_type": "markdown",
      "metadata": {
        "id": "oxk7n71wRn11"
      },
      "source": [
        "Para finalizar se guarda el árbol de decisiones como una imagen utilizando pydotplus."
      ]
    },
    {
      "cell_type": "code",
      "metadata": {
        "colab": {
          "base_uri": "https://localhost:8080/"
        },
        "id": "3O1mE79GOkRz",
        "outputId": "69ecc1e9-c71f-46cf-b3a6-cca6220d25a4"
      },
      "source": [
        "data = tree.export_graphviz(dtree, out_file=None, feature_names=features)\n",
        "graph = pydotplus.graph_from_dot_data(data)\n",
        "graph.write_png('mydecisiontree.png')"
      ],
      "execution_count": 8,
      "outputs": [
        {
          "output_type": "execute_result",
          "data": {
            "text/plain": [
              "True"
            ]
          },
          "metadata": {},
          "execution_count": 8
        }
      ]
    },
    {
      "cell_type": "markdown",
      "metadata": {
        "id": "YJwFBqM4Rvur"
      },
      "source": [
        "Finalmente visualizamos el árbol de decisión utilizando la librería matplotlib"
      ]
    },
    {
      "cell_type": "code",
      "metadata": {
        "id": "iLXOj-xARuAW",
        "colab": {
          "base_uri": "https://localhost:8080/",
          "height": 269
        },
        "outputId": "8f4ff096-06c4-49db-960c-0a2dfbcd35c3"
      },
      "source": [
        "img = pltimg.imread('mydecisiontree.png')\n",
        "imgplot = plt.imshow(img)\n",
        "plt.show()"
      ],
      "execution_count": 9,
      "outputs": [
        {
          "output_type": "display_data",
          "data": {
            "image/png": "[encoded data removed]",
            "text/plain": [
              "<Figure size 432x288 with 1 Axes>"
            ]
          },
          "metadata": {
            "needs_background": "light"
          }
        }
      ]
    }
  ]
}